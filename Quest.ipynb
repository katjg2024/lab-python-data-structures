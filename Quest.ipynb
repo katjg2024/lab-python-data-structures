{
  "cells": [
    {
      "cell_type": "markdown",
      "metadata": {
        "id": "view-in-github",
        "colab_type": "text"
      },
      "source": [
        "<a href=\"https://colab.research.google.com/github/katjg2024/lab-python-data-structures/blob/main/Quest.ipynb\" target=\"_parent\"><img src=\"https://colab.research.google.com/assets/colab-badge.svg\" alt=\"Open In Colab\"/></a>"
      ]
    },
    {
      "cell_type": "code",
      "execution_count": null,
      "metadata": {
        "id": "dJpBaqivMQMp"
      },
      "outputs": [],
      "source": [
        "\"\"\" Keys and values for game code to differentiate each item \"\"\"\n",
        "\n",
        "couch = {\n",
        "    \"name\": \"couch\",\n",
        "    \"type\": \"furniture\",\n",
        "}\n",
        "\n",
        "door_a = {\n",
        "    \"name\": \"door a\",\n",
        "    \"type\": \"door\",\n",
        "}\n",
        "\n",
        "key_a = {\n",
        "    \"name\": \"key for door a\",\n",
        "    \"type\": \"key\",\n",
        "    \"target\": door_a,\n",
        "}\n",
        "\n",
        "piano = {\n",
        "    \"name\": \"piano\",\n",
        "    \"type\": \"furniture\",\n",
        "}\n",
        "\n",
        "game_room = {\n",
        "    \"name\": \"game room\",\n",
        "    \"type\": \"room\",\n",
        "}\n",
        "\n",
        "bedroom_1 = {\n",
        "  \"name\": \"bedroom 1\",\n",
        "  \"type\": \"room\",\n",
        "}\n",
        "queen_bed = {\n",
        "    \"name\": \"queen bed\",\n",
        "    \"type\": \"furniture\",\n",
        "}\n",
        "door_b = {\n",
        "    \"name\": \"door b\",\n",
        "    \"type\": \"door\",\n",
        "}\n",
        "key_b = {\n",
        "    \"name\": \"key for door b\",\n",
        "    \"type\": \"key\",\n",
        "    \"target\": door_b,\n",
        "}\n",
        "\n",
        "door_c = {\n",
        "    \"name\": \"door c\",\n",
        "    \"type\": \"door\",\n",
        "}\n",
        "bedroom_2 = {\n",
        "  \"name\": \"bedroom 2\",\n",
        "  \"type\": \"room\",\n",
        "}\n",
        "double_bed = {\n",
        "    \"name\": \"double bed\",\n",
        "    \"type\": \"furniture\",\n",
        "}\n",
        "dresser = {\n",
        "    \"name\": \"dresser\",\n",
        "    \"type\": \"furniture\",\n",
        "\n",
        "}\n",
        "key_c = {\n",
        "    \"name\": \"key for door c\",\n",
        "    \"type\": \"key\",\n",
        "    \"target\": door_c,\n",
        "}\n",
        "door_d = {\n",
        "    \"name\": \"door d\",\n",
        "    \"type\": \"door\",\n",
        "}\n",
        "key_d = {\n",
        "    \"name\": \"key for door d\",\n",
        "    \"type\": \"key\",\n",
        "    \"target\": door_d,\n",
        "}\n",
        "living_room = {\n",
        "  \"name\": \"living room\",\n",
        "  \"type\": \"room\",\n",
        "}\n",
        "dining_table = {\n",
        "    \"name\": \"dining table\",\n",
        "    \"type\": \"furniture\",\n",
        "}\n",
        "outside = {\n",
        "  \"name\": \"outside\"\n",
        "}\n"
      ]
    },
    {
      "cell_type": "code",
      "execution_count": null,
      "metadata": {
        "id": "zaS17nZTZRVA"
      },
      "outputs": [],
      "source": [
        "all_rooms = [game_room, bedroom_1,bedroom_2,living_room,outside]"
      ]
    },
    {
      "cell_type": "code",
      "execution_count": null,
      "metadata": {
        "id": "hKa4obRdZTMp"
      },
      "outputs": [],
      "source": [
        "all_doors = [door_a, door_b, door_c,door_d]"
      ]
    },
    {
      "cell_type": "code",
      "execution_count": null,
      "metadata": {
        "colab": {
          "base_uri": "https://localhost:8080/",
          "height": 35
        },
        "id": "Awa1-3vzZZh4",
        "outputId": "9bfa43fe-153b-4941-b7a0-2dc8e3e96446"
      },
      "outputs": [
        {
          "data": {
            "application/vnd.google.colaboratory.intrinsic+json": {
              "type": "string"
            },
            "text/plain": [
              "'game_room_relations = {\\n    \"game room\": [couch, piano, door_a],\\n    \"piano\": [key_a],\\n    \"outside\": [door_a],\\n    \"door a\": [game_room, bedroom_1]\\n}'"
            ]
          },
          "execution_count": 26,
          "metadata": {},
          "output_type": "execute_result"
        }
      ],
      "source": [
        "\"\"\"game_room_relations = {\n",
        "    \"game room\": [couch, piano, door_a],\n",
        "    \"piano\": [key_a],\n",
        "    \"outside\": [door_a],\n",
        "    \"door a\": [game_room, bedroom_1]\n",
        "}\"\"\""
      ]
    },
    {
      "cell_type": "code",
      "execution_count": null,
      "metadata": {
        "colab": {
          "base_uri": "https://localhost:8080/",
          "height": 35
        },
        "id": "Sw3KipQNZlKf",
        "outputId": "b31c4e13-1554-4466-8cbd-73c8b23a707e"
      },
      "outputs": [
        {
          "data": {
            "application/vnd.google.colaboratory.intrinsic+json": {
              "type": "string"
            },
            "text/plain": [
              "'bedroom_1_relations = {\\n    \"bedroom_1\": [queen_bed, door_a, door_b],\\n    \"queen_bed\": [key_b],\\n    \"outside\": [door_b, door_c],\\n\\n    \"door c\": [bedroom_1, living_room]\\n}'"
            ]
          },
          "execution_count": 27,
          "metadata": {},
          "output_type": "execute_result"
        }
      ],
      "source": [
        "\"\"\"bedroom_1_relations = {\n",
        "    \"bedroom_1\": [queen_bed, door_a, door_b],\n",
        "    \"queen_bed\": [key_b],\n",
        "    \"outside\": [door_b, door_c],\n",
        "\n",
        "    \"door c\": [bedroom_1, living_room]\n",
        "}\"\"\""
      ]
    },
    {
      "cell_type": "code",
      "execution_count": null,
      "metadata": {
        "id": "XGv5GP-ObjTO"
      },
      "outputs": [],
      "source": []
    },
    {
      "cell_type": "code",
      "execution_count": null,
      "metadata": {
        "id": "bsrbngOMzMvF"
      },
      "outputs": [],
      "source": [
        "\"\"\" Map of game \"\"\"\n",
        "\n",
        "object_relations = {\n",
        "    \"game room\": [couch, piano, door_a],\n",
        "    \"bedroom 1\": [queen_bed, door_a, door_b, door_c],\n",
        "    \"bedroom 2\": [double_bed, dresser, door_b],\n",
        "    \"living room\": [dining_table, door_d],\n",
        "    \"piano\": [key_a],\n",
        "    \"queen bed\": [key_b],\n",
        "    \"double bed\": [key_c],\n",
        "    \"dresser\": [key_d],\n",
        "    \"outside\": [door_a],\n",
        "    \"door a\": [game_room, bedroom_1],\n",
        "    \"door b\": [bedroom_1, bedroom_2],\n",
        "    \"door c\": [living_room, bedroom_1],\n",
        "    \"door d\": [living_room, outside]\n",
        "}\n",
        "\n",
        "choices = {\n",
        "    '1': \"Examine items\",\n",
        "    '2': \"Colectables\",\n",
        "    '3': \"check door\"\n",
        "}"
      ]
    },
    {
      "cell_type": "code",
      "execution_count": null,
      "metadata": {
        "id": "rse0S9BceNCN"
      },
      "outputs": [],
      "source": [
        "\"\"\" Foundation of game \"\"\"\n",
        "\n",
        "INIT_GAME_STATE = {\n",
        "    \"current_room\": game_room,\n",
        "    \"keys_collected\": [],\n",
        "    \"target_room\": outside\n",
        "}"
      ]
    },
    {
      "cell_type": "code",
      "execution_count": null,
      "metadata": {
        "id": "-XDxi_FrfgpD"
      },
      "outputs": [],
      "source": [
        "def linebreak():\n",
        "    \"\"\"\n",
        "    Print a line break\n",
        "    \"\"\"\n",
        "    print(\"\\n\\n\")\n",
        "\n",
        "def start_game():\n",
        "    \"\"\"\n",
        "    Start the game\n",
        "    \"\"\"\n",
        "    print(\"You wake up on a couch and find yourself in a strange house with no windows which you have never been to before.\\n You don't remember why you are here and what had happened before.\\n You feel some unknown danger is approaching and you must get out of the house, NOW!\")\n",
        "    play_room(game_state[\"current_room\"])\n",
        "\n",
        "def play_room(room):\n",
        "    \"\"\"\n",
        "    Play a room. First check if the room being played is the target room.\n",
        "    If it is, the game will end with success. Otherwise, let player either\n",
        "    explore (list all items in this room) or examine an item found here.\n",
        "    \"\"\"\n",
        "    game_state[\"current_room\"] = room\n",
        "    if(game_state[\"current_room\"] == game_state[\"target_room\"]):\n",
        "        print(\"Congrats! You escaped the room!\")\n",
        "    else:\n",
        "        explore_room(room)\n",
        "        print(\"You are now in \" + room[\"name\"])\n",
        "        intended_action = input(\"Would you like to examine? Type 'yes' \").strip()\n",
        "        if intended_action == \"yes\":\n",
        "            examine_item(input(\"What would you like to examine?\").strip())\n",
        "        else:\n",
        "            print(\"Not sure what you mean. Type 'yes'.\")\n",
        "            play_room(room)\n",
        "        linebreak()\n",
        "\n",
        "def explore_room(room):\n",
        "    \"\"\"\n",
        "    Explore a room. List all items belonging to this room.\n",
        "    \"\"\"\n",
        "    items = [i[\"name\"] for i in object_relations[room[\"name\"]]]\n",
        "    print(\"This is the \" + room[\"name\"] + \". You find \" + \", \".join(items))\n",
        "\n",
        "def get_next_room_of_door(door, current_room):\n",
        "    \"\"\"\n",
        "    From object_relations, find the two rooms connected to the given door.\n",
        "    Return the room that is not the current_room.\n",
        "    \"\"\"\n",
        "    connected_rooms = object_relations[door[\"name\"]]\n",
        "    for room in connected_rooms:\n",
        "        if(not current_room == room):\n",
        "            return room\n",
        "\n",
        "def examine_item(item_name):\n",
        "    \"\"\"\n",
        "    Examine an item which can be a door or furniture.\n",
        "    First make sure the intended item belongs to the current room.\n",
        "    Then check if the item is a door. Tell player if key hasn't been\n",
        "    collected yet. Otherwise ask player if they want to go to the next\n",
        "    room. If the item is not a door, then check if it contains keys.\n",
        "    Collect the key if found and update the game state. At the end,\n",
        "    play either the current or the next room depending on the game state\n",
        "    to keep playing.\n",
        "    \"\"\"\n",
        "    current_room = game_state[\"current_room\"]\n",
        "    next_room = \"\"\n",
        "    output = None\n",
        "\n",
        "    for item in object_relations[current_room[\"name\"]]:\n",
        "        if(item[\"name\"] == item_name):\n",
        "            output = \"You examine the \" + item_name + \". \"\n",
        "            if(item[\"type\"] == \"door\"):\n",
        "                have_key = False\n",
        "                for key in game_state[\"keys_collected\"]:\n",
        "                    if(key[\"target\"] == item):\n",
        "                        have_key = True\n",
        "                if(have_key):\n",
        "                    output += \"You unlock it with a key you have.\"\n",
        "                    next_room = get_next_room_of_door(item, current_room)\n",
        "                else:\n",
        "                    output += \"It is locked but you don't have the key.\"\n",
        "            else:\n",
        "                if(item[\"name\"] in object_relations and len(object_relations[item[\"name\"]])>0):\n",
        "                    item_found = object_relations[item[\"name\"]].pop()\n",
        "                    game_state[\"keys_collected\"].append(item_found)\n",
        "                    output += \"You find \" + item_found[\"name\"] + \".\"\n",
        "                else:\n",
        "                    output += \"There isn't anything interesting about it.\"\n",
        "            print(output)\n",
        "            break\n",
        "\n",
        "    if(output is None):\n",
        "        print(\"The item you requested is not found in the current room.\")\n",
        "\n",
        "    if(next_room and input(\"Do you want to go to the next room? Enter 'yes' or 'no'\").strip() == 'yes'):\n",
        "        play_room(next_room)\n",
        "    else:\n",
        "        play_room(current_room)"
      ]
    },
    {
      "cell_type": "code",
      "execution_count": null,
      "metadata": {
        "colab": {
          "background_save": true,
          "base_uri": "https://localhost:8080/"
        },
        "id": "AvBkpVnsfmY7",
        "outputId": "f917a963-4153-41c0-b898-6b9194b8c315"
      },
      "outputs": [
        {
          "name": "stdout",
          "output_type": "stream",
          "text": [
            "You wake up on a couch and find yourself in a strange house with no windows which you have never been to before. You don't remember why you are here and what had happened before. You feel some unknown danger is approaching and you must get out of the house, NOW!\n",
            "You explore the room. This is the game room. You find couch, piano, door a\n",
            "You are now in game room\n",
            "You examine the couch. There isn't anything interesting about it.\n",
            "You explore the room. This is the game room. You find couch, piano, door a\n",
            "You are now in game room\n",
            "You examine the piano. You find key for door a.\n",
            "You explore the room. This is the game room. You find couch, piano, door a\n",
            "You are now in game room\n",
            "You examine the door a. You unlock it with a key you have.\n",
            "You explore the room. This is the bedroom 1. You find queen bed, door a, door b, door c\n",
            "You are now in bedroom 1\n"
          ]
        }
      ],
      "source": [
        "game_state = INIT_GAME_STATE.copy()\n",
        "\n",
        "start_game()"
      ]
    },
    {
      "cell_type": "code",
      "execution_count": null,
      "metadata": {
        "id": "j8d81fZIyvJR"
      },
      "outputs": [],
      "source": []
    }
  ],
  "metadata": {
    "colab": {
      "provenance": [],
      "include_colab_link": true
    },
    "kernelspec": {
      "display_name": "Python 3",
      "name": "python3"
    },
    "language_info": {
      "name": "python"
    }
  },
  "nbformat": 4,
  "nbformat_minor": 0
}